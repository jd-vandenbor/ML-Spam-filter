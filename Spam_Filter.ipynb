{
 "cells": [
  {
   "cell_type": "code",
   "execution_count": 1,
   "metadata": {},
   "outputs": [
    {
     "name": "stdout",
     "output_type": "stream",
     "text": [
      "5172\n",
      "5172\n",
      "5172\n"
     ]
    }
   ],
   "source": [
    "import os\n",
    "from collections import Counter\n",
    "from sklearn.naive_bayes import MultinomialNB\n",
    "from sklearn.model_selection import train_test_split as tts\n",
    "\n",
    "#set up\n",
    "direc = \"emails/\"\n",
    "files = os.listdir(direc)\n",
    "emails = [direc + email for email in files]\n",
    "ds_store = \"emails/.DS_Store\"\n",
    "if ds_store in emails: emails.remove(ds_store)\n",
    "\n",
    "# ------ make dictionary of all words in corpus ------  \n",
    "print(len(emails))\n",
    "words = []\n",
    "count = len(emails)\n",
    "for email in emails:\n",
    "\tf = open(email)\n",
    "\tblob = f.read()\n",
    "\twords += blob.split(\" \")\n",
    "\t#print(count)\n",
    "\tcount -= 1\n",
    "\n",
    "for i in range(len(words)):\n",
    "\tif not words[i].isalpha():\n",
    "\t\twords[i] = \"\"\n",
    "\n",
    "dictionary = Counter(words)\n",
    "del dictionary[\"\"]\n",
    "dictionary = dictionary.most_common(3000) \n",
    "\n",
    "# -----------------------------------------------------\n",
    "\n",
    "# -------- Make Data set ------------------------------\n",
    "\n",
    "def make_dataset(dictionary):\n",
    "\n",
    "\t#set up variables\n",
    "\tfeature_set = []\n",
    "\tlabels = []\n",
    "\tc = len(emails) #simple counter\n",
    "\n",
    "\t#go through all documents\n",
    "\tfor email in emails:\n",
    "\t\t#print(c)\n",
    "\t\tdata = []\n",
    "\t\tf = open(email)\n",
    "\n",
    "\t\t#make the feature vector for the document\n",
    "\t\twords = f.read().split(\" \")\n",
    "\t\tfor entry in dictionary:\n",
    "\t\t\tdata.append(words.count(entry[0]))\n",
    "\t\tfeature_set.append(data)\n",
    "\n",
    "\t\t# label the feature\n",
    "\t\tif \"ham\" in email:\n",
    "\t\t\tlabels.append(0)\n",
    "\t\telse:\n",
    "\t\t\tlabels.append(1)\n",
    "\t\tc-=1\n",
    "\n",
    "\treturn feature_set, labels\n",
    "\n",
    "\n",
    "features, labels = make_dataset(dictionary)\n",
    "\n",
    "#check to see that the feature set matches the number of labels\n",
    "print(len(features))\n",
    "print(len(labels))"
   ]
  },
  {
   "cell_type": "code",
   "execution_count": 44,
   "metadata": {},
   "outputs": [],
   "source": [
    "# from pandas import DataFrame\n",
    "# df = DataFrame.from_records(features)\n",
    "# we dont need those two lines above this, but if you wanted to put the data into a pandas dataframe it's as simple as that.\n",
    "x_train, x_test, y_train, y_test = tts(features, labels, test_size = 0.2, random_state=42) #split data set. We should look at stratifying this\n"
   ]
  },
  {
   "cell_type": "code",
   "execution_count": 45,
   "metadata": {},
   "outputs": [
    {
     "data": {
      "text/plain": [
       "0.9391304347826087"
      ]
     },
     "execution_count": 45,
     "metadata": {},
     "output_type": "execute_result"
    }
   ],
   "source": [
    "from sklearn.metrics import accuracy_score\n",
    "clf = MultinomialNB()\n",
    "clf.fit(x_train, y_train)\n",
    "preds = clf.predict(x_test)\n",
    "accuracy_score(y_test, preds)"
   ]
  },
  {
   "cell_type": "code",
   "execution_count": 46,
   "metadata": {},
   "outputs": [
    {
     "data": {
      "text/plain": [
       "0.9007874015748032"
      ]
     },
     "execution_count": 46,
     "metadata": {},
     "output_type": "execute_result"
    }
   ],
   "source": [
    "from sklearn import metrics\n",
    "metrics.f1_score(y_test, preds)"
   ]
  },
  {
   "cell_type": "code",
   "execution_count": 47,
   "metadata": {},
   "outputs": [
    {
     "data": {
      "image/png": "[encoded data removed]",
      "text/plain": [
       "<Figure size 432x288 with 2 Axes>"
      ]
     },
     "metadata": {
      "needs_background": "light"
     },
     "output_type": "display_data"
    },
    {
     "name": "stdout",
     "output_type": "stream",
     "text": [
      "PvsR area under curve:: 0.9660378971569941\n",
      "Precision: 0.9324561403508772\n",
      "Recall: 0.8917785234899329\n",
      "F1 Score: 0.911663807890223\n",
      "\n",
      "ROC area under curve: 0.9845348446348607\n"
     ]
    }
   ],
   "source": [
    "# plot PvsR and ROC curves\n",
    "from sklearn.metrics import precision_recall_curve\n",
    "from sklearn.model_selection import cross_val_predict\n",
    "from sklearn.linear_model import SGDClassifier\n",
    "import matplotlib.pyplot as plt\n",
    "\n",
    "clf = SGDClassifier(random_state=42)\n",
    "clf.fit(x_train, y_train)\n",
    "y_scores = cross_val_predict(clf, x_train, y_train, cv=3, method=\"decision_function\") \n",
    "precisions, recalls, thresholds = precision_recall_curve(y_train, y_scores)\n",
    "#plt.show()\n",
    "\n",
    "# Precision VS Recall grraph. Perfect would be stuck to the top right corner\n",
    "def plot_PvsR_curve(precisions, recalls):\n",
    "    plt.subplot(1, 2, 1)\n",
    "    plt.title(\"Precision vs. Recall\")\n",
    "    plt.plot(recalls, precisions)\n",
    "    plt.xlabel('recalls')\n",
    "    plt.ylabel('precisions')\n",
    "plot_PvsR_curve(precisions, recalls)\n",
    "\n",
    "from sklearn.metrics import roc_curve\n",
    "fpr, tpr, thresholds = roc_curve(y_train, y_scores)\n",
    "\n",
    "def plot_roc_curve(fpr, tpr, label=None):\n",
    "    plt.subplot(1, 2, 2)\n",
    "    plt.title(\"ROC\")\n",
    "    plt.plot(fpr, tpr, linewidth=2, label=label)\n",
    "    plt.plot([0, 1], [0, 1], 'k--')\n",
    "    plt.axis([0, 1, 0, 1])\n",
    "    plt.xlabel('False Positive Rate')\n",
    "    plt.ylabel('True Positive Rate')\n",
    "    \n",
    "plot_roc_curve(fpr, tpr)\n",
    "plt.show()\n",
    "\n",
    "#print area under curve for PvsR\n",
    "from sklearn.metrics import auc\n",
    "auc = auc(recalls, precisions)\n",
    "print(\"PvsR area under curve:: \" + str(auc))\n",
    "\n",
    "# get predictions\n",
    "from sklearn.model_selection import cross_val_predict\n",
    "y_train_pred = cross_val_predict(clf, x_train, y_train, cv=3)\n",
    "#score the algorithm on PvsR\n",
    "from sklearn.metrics import precision_score, recall_score\n",
    "from sklearn.metrics import f1_score\n",
    "print(\"Precision: \" + str(precision_score(y_train, y_train_pred))) # == TP / (TP + FP) \n",
    "print(\"Recall: \" + str(recall_score(y_train, y_train_pred))) # == TP / (TP + FN)\n",
    "print(\"F1 Score: \" + str(f1_score(y_train, y_train_pred))) # combined precision and recall into one metric\n",
    "print(\"\")\n",
    "\n",
    "# quantify this curve in one number by calculating the area under the curve. Perfect classifier would be = 1\n",
    "from sklearn.metrics import roc_auc_score\n",
    "print(\"ROC area under curve: \" + str(roc_auc_score(y_train, y_scores)))\n"
   ]
  },
  {
   "cell_type": "code",
   "execution_count": 22,
   "metadata": {},
   "outputs": [
    {
     "data": {
      "image/png": "[encoded data removed]",
      "text/plain": [
       "<Figure size 432x288 with 1 Axes>"
      ]
     },
     "metadata": {
      "needs_background": "light"
     },
     "output_type": "display_data"
    },
    {
     "name": "stdout",
     "output_type": "stream",
     "text": [
      "0.9861036576150649\n"
     ]
    }
   ],
   "source": [
    "from sklearn.metrics import roc_curve\n",
    "fpr, tpr, thresholds = roc_curve(y_train, y_scores)\n",
    "\n",
    "def plot_roc_curve(fpr, tpr, label=None):\n",
    "    plt.subplot(1, 2, 2)\n",
    "    plt.title(\"ROC\")\n",
    "    plt.plot(fpr, tpr, linewidth=2, label=label)\n",
    "    plt.plot([0, 1], [0, 1], 'k--')\n",
    "    plt.axis([0, 1, 0, 1])\n",
    "    plt.xlabel('False Positive Rate')\n",
    "    plt.ylabel('True Positive Rate')\n",
    "    \n",
    "plot_roc_curve(fpr, tpr)\n",
    "plt.show()\n",
    "\n",
    "# quantify this curve in one number by calculating the area under the curve. Perfect classifier would be = 1\n",
    "from sklearn.metrics import roc_auc_score\n",
    "print(roc_auc_score(y_train, y_scores))"
   ]
  },
  {
   "cell_type": "code",
   "execution_count": 34,
   "metadata": {},
   "outputs": [],
   "source": [
    "from pandas import DataFrame\n",
    "df = DataFrame.from_records(features)\n"
   ]
  },
  {
   "cell_type": "code",
   "execution_count": null,
   "metadata": {},
   "outputs": [],
   "source": []
  },
  {
   "cell_type": "code",
   "execution_count": null,
   "metadata": {},
   "outputs": [],
   "source": []
  }
 ],
 "metadata": {
  "kernelspec": {
   "display_name": "Python 2",
   "language": "python",
   "name": "python2"
  },
  "language_info": {
   "codemirror_mode": {
    "name": "ipython",
    "version": 2
   },
   "file_extension": ".py",
   "mimetype": "text/x-python",
   "name": "python",
   "nbconvert_exporter": "python",
   "pygments_lexer": "ipython2",
   "version": "2.7.15"
  }
 },
 "nbformat": 4,
 "nbformat_minor": 2
}
